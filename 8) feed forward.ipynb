{
 "cells": [
  {
   "cell_type": "code",
   "execution_count": 7,
   "metadata": {},
   "outputs": [],
   "source": [
    "#MNIST\n",
    "#Dataloader, Transformation\n",
    "#Multilayer Neural Net, activation function\n",
    "#Loss and Optimizer\n",
    "#Training loop\n",
    "#Model Evaluation\n",
    "#GPU Support"
   ]
  },
  {
   "cell_type": "code",
   "execution_count": 1,
   "metadata": {},
   "outputs": [],
   "source": [
    "import torch\n",
    "import torch.nn as nn\n",
    "import torchvision\n",
    "import torchvision.transforms as transform\n",
    "import matplotlib.pyplot as plt\n",
    "from tqdm.notebook import tqdm\n"
   ]
  },
  {
   "cell_type": "code",
   "execution_count": 9,
   "metadata": {},
   "outputs": [
    {
     "data": {
      "text/plain": [
       "torch.Size([60000, 28, 28])"
      ]
     },
     "execution_count": 9,
     "metadata": {},
     "output_type": "execute_result"
    }
   ],
   "source": [
    "#device config\n",
    "device = torch.device('cuda' if torch.cuda.is_available() else 'cpu')\n",
    "\n",
    "#hyper parameters\n",
    "input_size = 784 #28x28\n",
    "hidden_size = 100\n",
    "num_classes = 10\n",
    "num_epoches = 100\n",
    "batch_size = 100\n",
    "learning_rate = 0.001\n",
    "\n",
    "#MNIST\n",
    "train_dataset = torchvision.datasets.MNIST(root=\"./data\", train=True, transform=transform.ToTensor(), download=True)\n",
    "test_dataset = torchvision.datasets.MNIST(root=\"./data\", train=False, transform=transform.ToTensor())\n",
    "\n",
    "train_loader = torch.utils.data.DataLoader(dataset=train_dataset, batch_size=batch_size, shuffle=True)\n",
    "test_loader = torch.utils.data.DataLoader(dataset=test_dataset, batch_size=batch_size, shuffle=True)\n",
    "\n",
    "train_dataset.data.shape"
   ]
  },
  {
   "cell_type": "code",
   "execution_count": 10,
   "metadata": {},
   "outputs": [
    {
     "name": "stdout",
     "output_type": "stream",
     "text": [
      "<class 'torchvision.datasets.mnist.MNIST'>\n",
      "<class 'torch.Tensor'>\n",
      "Total number of data is 60000\n",
      "  Batch size is 100  \n",
      " The number of batch 600.0\n"
     ]
    }
   ],
   "source": [
    "print(type(train_dataset))\n",
    "print(type(train_dataset.data))\n",
    "print(\"Total number of data is {}\\n  Batch size is {}  \\n The number of batch {}\".format(train_dataset.data.shape[0], batch_size, train_dataset.data.shape[0]/ batch_size))"
   ]
  },
  {
   "cell_type": "markdown",
   "metadata": {},
   "source": [
    "### View single data"
   ]
  },
  {
   "cell_type": "code",
   "execution_count": 11,
   "metadata": {},
   "outputs": [
    {
     "name": "stdout",
     "output_type": "stream",
     "text": [
      "torch.Size([100, 1, 28, 28]) torch.Size([100])\n"
     ]
    },
    {
     "data": {
      "image/jpeg": "[encoded data removed]",
      "image/png": "[encoded data removed]",
      "text/plain": [
       "<PIL.Image.Image image mode=L size=28x28>"
      ]
     },
     "execution_count": 11,
     "metadata": {},
     "output_type": "execute_result"
    }
   ],
   "source": [
    "example = iter(train_loader)\n",
    "samples, labels = next(example)\n",
    "print(samples.shape, labels.shape)\n",
    "torchvision.transforms.functional.to_pil_image(train_dataset.data[2]) #view data image\n"
   ]
  },
  {
   "cell_type": "code",
   "execution_count": 12,
   "metadata": {},
   "outputs": [
    {
     "data": {
      "image/png": "[encoded data removed]",
      "text/plain": [
       "<Figure size 640x480 with 6 Axes>"
      ]
     },
     "metadata": {},
     "output_type": "display_data"
    }
   ],
   "source": [
    "for i in range(6):\n",
    "    plt.subplot(2,3, i+1)\n",
    "    plt.imshow(samples[i][0], cmap=\"grey\")\n",
    "plt.show()"
   ]
  },
  {
   "cell_type": "markdown",
   "metadata": {},
   "source": [
    "### Model"
   ]
  },
  {
   "cell_type": "code",
   "execution_count": 13,
   "metadata": {},
   "outputs": [],
   "source": [
    "class NeuralNet(nn.Module):\n",
    "    def __init__(self, input_size, hidden_size, num_classes):\n",
    "        super(NeuralNet, self).__init__()\n",
    "\n",
    "        self.l1 = nn.Linear(input_size, hidden_size)\n",
    "        self.relu = nn.ReLU()\n",
    "        self.l2 = nn.Linear(hidden_size, num_classes)\n",
    "\n",
    "    def forward(self, x):\n",
    "        out = self.l1(x)\n",
    "        out = self.relu(out)\n",
    "        out = self.l2(out)\n",
    "        return out\n",
    "\n"
   ]
  },
  {
   "cell_type": "code",
   "execution_count": 14,
   "metadata": {},
   "outputs": [
    {
     "data": {
      "text/plain": [
       "600"
      ]
     },
     "execution_count": 14,
     "metadata": {},
     "output_type": "execute_result"
    }
   ],
   "source": [
    "len(train_loader)"
   ]
  },
  {
   "cell_type": "code",
   "execution_count": null,
   "metadata": {},
   "outputs": [],
   "source": []
  },
  {
   "cell_type": "code",
   "execution_count": 15,
   "metadata": {},
   "outputs": [
    {
     "data": {
      "application/vnd.jupyter.widget-view+json": {
       "model_id": "961b3b30526d4d03922ac027e7ac2dd2",
       "version_major": 2,
       "version_minor": 0
      },
      "text/plain": [
       "epoch bar:   0%|          | 0/100 [00:00<?, ?it/s]"
      ]
     },
     "metadata": {},
     "output_type": "display_data"
    },
    {
     "data": {
      "application/vnd.jupyter.widget-view+json": {
       "model_id": "f9bcacdb232746e4999a371498b62e00",
       "version_major": 2,
       "version_minor": 0
      },
      "text/plain": [
       "Train bar:   0%|          | 0/600 [00:00<?, ?it/s]"
      ]
     },
     "metadata": {},
     "output_type": "display_data"
    }
   ],
   "source": [
    "model = NeuralNet(input_size=input_size, hidden_size=hidden_size, num_classes=num_classes).to(device)\n",
    "loss = nn.CrossEntropyLoss()\n",
    "optimizer = torch.optim.Adam(model.parameters(), lr=learning_rate)\n",
    "epoch_bar = tqdm(desc=\"epoch bar\", total=num_epoches, position=0)\n",
    "\n",
    "#training loop\n",
    "n_total_steps = len(train_loader) #batch number\n",
    "train_bar= tqdm(desc=\"Train bar\", total=n_total_steps, position=1)\n",
    "\n",
    "for epoch in range(num_epoches):\n",
    "    for i, (images, label) in  enumerate(train_loader):\n",
    "        #reshape data\n",
    "        images = images.reshape(-1,28*28).to(device)\n",
    "        label = label.to(device)\n",
    "        #forward pass\n",
    "        y_pred = model(images)\n",
    "        l = loss(y_pred,label)\n",
    "        #backward pass\n",
    "        l.backward()\n",
    "        optimizer.step()\n",
    "        optimizer.zero_grad()\n",
    "        train_bar.update()\n",
    "\n",
    "    epoch_bar.update()\n",
    "    train_bar.n = 0\n",
    "    train_bar.refresh()\n",
    "\n"
   ]
  },
  {
   "cell_type": "code",
   "execution_count": 1,
   "metadata": {},
   "outputs": [
    {
     "data": {
      "application/vnd.jupyter.widget-view+json": {
       "model_id": "c106e705ca0b449d8a91c8d3db1ad203",
       "version_major": 2,
       "version_minor": 0
      },
      "text/plain": [
       "dammy:   0%|          | 0/100 [00:00<?, ?it/s]"
      ]
     },
     "metadata": {},
     "output_type": "display_data"
    },
    {
     "data": {
      "application/vnd.jupyter.widget-view+json": {
       "model_id": "2ef40d96abb34ec4831a1e97f6ac48cc",
       "version_major": 2,
       "version_minor": 0
      },
      "text/plain": [
       "dammy2:   0%|          | 0/100 [00:00<?, ?it/s]"
      ]
     },
     "metadata": {},
     "output_type": "display_data"
    }
   ],
   "source": [
    "from tqdm.notebook import tqdm\n",
    "bar = tqdm(desc=\"dammy\", total=100, position=0)\n",
    "bar2 = tqdm(desc=\"dammy2\", total=100, position=1)\n",
    "import time\n",
    "\n",
    "for j in range(100):\n",
    "    bar.update()\n",
    "    for i in range(100):\n",
    "        bar2.set_postfix(i=i)\n",
    "        bar2.update()\n",
    "        time.sleep(0.01)\n",
    "\n",
    "    bar2.n =0\n",
    "    # bar2.refresh()"
   ]
  },
  {
   "cell_type": "code",
   "execution_count": 48,
   "metadata": {},
   "outputs": [
    {
     "data": {
      "text/plain": [
       "92"
      ]
     },
     "execution_count": 48,
     "metadata": {},
     "output_type": "execute_result"
    }
   ],
   "source": [
    "d = iter(test_loader)\n",
    "i,l = next(d)\n",
    "\n",
    "pred = model(i.reshape(-1,28*28).to(device))\n",
    "# print(torch.max(pred,dim=1))\n",
    "# print(l)\n",
    "(torch.max(pred,dim=1)[1].to('cpu') == l).sum().item()\n"
   ]
  },
  {
   "cell_type": "code",
   "execution_count": 50,
   "metadata": {},
   "outputs": [
    {
     "name": "stdout",
     "output_type": "stream",
     "text": [
      "0.93\n"
     ]
    }
   ],
   "source": [
    "#test\n",
    "with torch.no_grad():\n",
    "    n_correct = 0\n",
    "    n_samples = 0\n",
    "    for image, label in test_loader:\n",
    "        image = image.reshape(-1, 28*28).to(device)\n",
    "        label = label.to(device)\n",
    "        output = model(image)\n",
    "    _, predicion = torch.max(output,dim=1)\n",
    "    n_samples += label.shape[0]\n",
    "    n_correct += (predicion == label).sum().item()\n",
    "print(n_correct / n_samples)"
   ]
  }
 ],
 "metadata": {
  "kernelspec": {
   "display_name": "paper",
   "language": "python",
   "name": "python3"
  },
  "language_info": {
   "codemirror_mode": {
    "name": "ipython",
    "version": 3
   },
   "file_extension": ".py",
   "mimetype": "text/x-python",
   "name": "python",
   "nbconvert_exporter": "python",
   "pygments_lexer": "ipython3",
   "version": "3.11.9"
  }
 },
 "nbformat": 4,
 "nbformat_minor": 2
}
